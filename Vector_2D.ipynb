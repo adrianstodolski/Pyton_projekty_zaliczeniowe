{
 "cells": [
  {
   "cell_type": "markdown",
   "metadata": {},
   "source": [
    "> <b>Autor: Adrian Stodolski\n",
    "\n",
    "> <b>Przedmiot: Python\n",
    "\n",
    "><b>Cel: Projekt zaliczeniowy \n",
    "\n",
    "><b>Prowadzacy: Szymon Maćkowiak\n",
    "\n",
    "><b>Rok: I\n",
    "\n",
    "><b>Semestr: I\n",
    "    \n",
    "> <b> Grupa: II"
   ]
  },
  {
   "cell_type": "markdown",
   "metadata": {},
   "source": [
    "> <b> Utwórz klasę Vector2D. Wykorzystaj całą wiedzę jaką posiadasz na temat wektorów na płaszczyźnie. Zdefiniuj wszystkie znane Ci operacje.\n"
   ]
  },
  {
   "cell_type": "code",
   "execution_count": 79,
   "metadata": {},
   "outputs": [
    {
     "name": "stdout",
     "output_type": "stream",
     "text": [
      "(18, 11)\n",
      "(1, 0)\n",
      "83\n",
      "(21, 3)\n",
      "Nasz wektor to: (11,12)\n",
      "8.246211251235321\n",
      "(-7, -7)\n",
      "(3.7233115641240078, 3.3372070652658694)\n"
     ]
    }
   ],
   "source": [
    "# Potrzebne biblioteki\n",
    "import numpy as np\n",
    "import math\n",
    "\n",
    "# Klasa\n",
    "class Vector2D():\n",
    "    \n",
    "    # Inicjalizacja\n",
    "    def __init__(self, x, y):\n",
    "        self.x = x\n",
    "        self.y = y\n",
    "        \n",
    "    #1. Wyswietlanie wektora   \n",
    "    def show(self):\n",
    "        return \"Nasz wektor to: ({},{})\".format(self.x,self.y)\n",
    "    \n",
    "    #2. Zwiększ o inny wektor (suma)\n",
    "    def add(self, other):\n",
    "        self.x = self.x + other.x\n",
    "        self.y = self.y + other.y\n",
    "        wynik = self.x,self.y\n",
    "        return wynik\n",
    "    \n",
    "    #3. Zmniejsz o inny wektor (różnica)    \n",
    "    def substr(self, other):\n",
    "        self.x = self.x - other.x\n",
    "        self.y = self.y - other.y\n",
    "        odd = self.x,self.y\n",
    "        return odd\n",
    "    \n",
    "    #4. Wymnozenie przez liczbę (iloczyn)    \n",
    "    def mult(self, a):\n",
    "        self.x = a*self.x\n",
    "        self.y = a*self.y\n",
    "        mult = self.x, self.y\n",
    "        return mult\n",
    "    \n",
    "    #5. Wymnozenie przez drugi wektor skalarnie    \n",
    "    def dotProd(self, other):\n",
    "        dot = self.x*other.x + self.y*other.y\n",
    "        return dot\n",
    "    \n",
    "    #6. Obrot o dany kąt\n",
    "    def rotate(self, alfa):\n",
    "        alfaDeg = alfa*math.pi/180\n",
    "        sinus = math.sin(alfaDeg)\n",
    "        cosinus = math.cos(alfaDeg)\n",
    "        x = self.x\n",
    "        y = self.y       \n",
    "        self.x = x*cosinus - y*sinus\n",
    "        self.y = x*sinus + y*cosinus\n",
    "        rot = self.x,self.y\n",
    "        return rot\n",
    "    \n",
    "    #7. Modul    \n",
    "    def modulus(self):\n",
    "        return (self.x**2 + self.y**2)**0.5\n",
    "    \n",
    "    #8. Wektor przeciwny\n",
    "    def opposite(self):\n",
    "        self.x = -self.x\n",
    "        self.y = -self.y\n",
    "        opp = self.x, self.y\n",
    "        return opp\n",
    "\n",
    "v1= Vector2D(10,5)\n",
    "v2= Vector2D(8,6)\n",
    "v3= Vector2D(3,4)\n",
    "v4= Vector2D(2,4)\n",
    "v5 = Vector2D(5,6)\n",
    "v6 = Vector2D(7,8)\n",
    "v7 = Vector2D(7,1)\n",
    "v8 = Vector2D(11,12)\n",
    "v9 = Vector2D(2,8)\n",
    "v10 = Vector2D(7,7)\n",
    "v11 = Vector2D(4,3)\n",
    "\n",
    "print(v1.add(v2))\n",
    "print(v3.substr(v4))\n",
    "print(v5.dotProd(v6))\n",
    "print(v7.mult(3))\n",
    "print(v8.show()) \n",
    "print(v9.modulus())\n",
    "print(v10.opposite())\n",
    "print(v11.rotate(5))"
   ]
  },
  {
   "cell_type": "code",
   "execution_count": null,
   "metadata": {},
   "outputs": [],
   "source": []
  }
 ],
 "metadata": {
  "kernelspec": {
   "display_name": "Python 3.7.5 64-bit ('DataScience': conda)",
   "language": "python",
   "name": "python37564bitdatascienceconda603cf2d926d64870b4c19d7385b80981"
  },
  "language_info": {
   "codemirror_mode": {
    "name": "ipython",
    "version": 3
   },
   "file_extension": ".py",
   "mimetype": "text/x-python",
   "name": "python",
   "nbconvert_exporter": "python",
   "pygments_lexer": "ipython3",
   "version": "3.7.5"
  },
  "toc": {
   "base_numbering": 1,
   "nav_menu": {},
   "number_sections": true,
   "sideBar": true,
   "skip_h1_title": false,
   "title_cell": "Table of Contents",
   "title_sidebar": "Contents",
   "toc_cell": false,
   "toc_position": {},
   "toc_section_display": true,
   "toc_window_display": false
  }
 },
 "nbformat": 4,
 "nbformat_minor": 2
}
